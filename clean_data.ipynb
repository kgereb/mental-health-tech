{
 "cells": [
  {
   "cell_type": "markdown",
   "metadata": {},
   "source": [
    "# Risk profiling for customer churn"
   ]
  },
  {
   "cell_type": "code",
   "execution_count": 6,
   "metadata": {},
   "outputs": [],
   "source": [
    "#https://www.kaggle.com/osmi/mental-health-in-tech-survey"
   ]
  },
  {
   "cell_type": "markdown",
   "metadata": {},
   "source": [
    "Some of my own findings + exploration page!!\n",
    "\n",
    "To note:\n",
    "- remove self-emplyed\n",
    "- measure male vs. female vs other\n",
    "- have you sought treatments? \n",
    "\n",
    "\n",
    "- How does remote work affect your mental health?\n",
    "- How do big vs. small companies compare\n",
    "- if you are self-employed or not\n",
    "- seek help - most companies don't provide help or employees don't know if they those options\n",
    "\n",
    "To explore:\n",
    "- what is a stronger predictor: location, support by employer, remote work, size of the company, family history, etc. \n",
    "Sankey: \n",
    "- does it make a difference if an employer just has benefits, or is active in supporting the mental health? \n",
    "- out of those where mental health is supported/not at work->  does it interfere with your work -> how many have seeked treatment? "
   ]
  },
  {
   "cell_type": "code",
   "execution_count": 7,
   "metadata": {},
   "outputs": [],
   "source": [
    "import pandas as pd\n",
    "from kaggle.api.kaggle_api_extended import KaggleApi\n",
    "from pandas_profiling import ProfileReport\n",
    "import numpy as np"
   ]
  },
  {
   "cell_type": "code",
   "execution_count": 8,
   "metadata": {},
   "outputs": [],
   "source": [
    "# Use the Kaggle API to download the dataset\n",
    "download = False\n",
    "\n",
    "if download: \n",
    "    api = KaggleApi()\n",
    "    api.authenticate()\n",
    "    api.dataset_download_files('osmihelp/osmi-mental-health-in-tech-survey-2019', path='kaggle_datasets', unzip=True)"
   ]
  },
  {
   "cell_type": "code",
   "execution_count": 9,
   "metadata": {},
   "outputs": [],
   "source": [
    "survey_df = pd.read_csv('kaggle_datasets/OSMI 2019 Mental Health in Tech Survey Results - OSMI Mental Health in Tech Survey 2019.csv')"
   ]
  },
  {
   "cell_type": "code",
   "execution_count": 10,
   "metadata": {},
   "outputs": [
    {
     "data": {
      "text/plain": [
       "(352, 82)"
      ]
     },
     "execution_count": 10,
     "metadata": {},
     "output_type": "execute_result"
    }
   ],
   "source": [
    "survey_df.shape"
   ]
  },
  {
   "cell_type": "code",
   "execution_count": 11,
   "metadata": {},
   "outputs": [
    {
     "name": "stderr",
     "output_type": "stream",
     "text": [
      "/usr/local/lib/python3.7/site-packages/pandas/core/indexing.py:671: SettingWithCopyWarning: \n",
      "A value is trying to be set on a copy of a slice from a DataFrame\n",
      "\n",
      "See the caveats in the documentation: https://pandas.pydata.org/pandas-docs/stable/user_guide/indexing.html#returning-a-view-versus-a-copy\n",
      "  self._setitem_with_indexer(indexer, value)\n"
     ]
    }
   ],
   "source": [
    "basic_list = ['male', 'female']\n",
    "column_main = 'What is your gender?'\n",
    "\n",
    "def clean_gender_data(df):\n",
    "    df[column_main] = df[column_main].str.lower()\n",
    "    df[column_main] = df[column_main].replace(['m', 'cis male', 'male ', 'man', 'cis man',\n",
    "                                         'male (cis)', 'msle', 'make', 'mail', 'malr', 'maile'], 'male')\n",
    "    df[column_main] = df[column_main].replace(['female', 'woman', 'female ', \n",
    "                                         'f', 'female (cis)', 'femake', 'femail', 'femile', 'femmina',\n",
    "                                              'cis woman', ], 'female')\n",
    "    \n",
    "    df[column_main].loc[~df[column_main].isin(basic_list)]='other'\n",
    "    return df\n",
    "\n",
    "survey_df = clean_gender_data(survey_df)"
   ]
  },
  {
   "cell_type": "code",
   "execution_count": 12,
   "metadata": {},
   "outputs": [
    {
     "data": {
      "text/plain": [
       "male      225\n",
       "female     99\n",
       "other      28\n",
       "Name: What is your gender?, dtype: int64"
      ]
     },
     "execution_count": 12,
     "metadata": {},
     "output_type": "execute_result"
    }
   ],
   "source": [
    "survey_df['What is your gender?'].value_counts()"
   ]
  },
  {
   "cell_type": "markdown",
   "metadata": {},
   "source": [
    "## Get age groups"
   ]
  },
  {
   "cell_type": "code",
   "execution_count": 13,
   "metadata": {},
   "outputs": [
    {
     "name": "stderr",
     "output_type": "stream",
     "text": [
      "/usr/local/lib/python3.7/site-packages/pandas/core/ops/array_ops.py:253: FutureWarning: elementwise comparison failed; returning scalar instead, but in the future will perform elementwise comparison\n",
      "  res_values = method(rvalues)\n"
     ]
    }
   ],
   "source": [
    "# Getting rid of 28 rows\n",
    "survey_df = survey_df[survey_df['What is your age?']!='other']\n",
    "survey_df['What is your age?'] = survey_df['What is your age?'].astype(np.int)\n",
    "survey_df['What is your age?'].value_counts()\n",
    "\n",
    "def get_age_groups(row):\n",
    "        if (row['What is your age?'] >= 20) & (row['What is your age?'] < 25):\n",
    "            return '20-25'\n",
    "        elif (row['What is your age?'] >= 25) & (row['What is your age?'] < 30):\n",
    "            return '25-30'\n",
    "        elif (row['What is your age?'] >= 30) & (row['What is your age?'] < 35):\n",
    "            return '30-35'   \n",
    "        elif (row['What is your age?'] >= 35) & (row['What is your age?'] < 40):\n",
    "            return '35-40'          \n",
    "        elif (row['What is your age?'] >= 40) & (row['What is your age?'] < 45):\n",
    "            return '40-45'         \n",
    "        elif (row['What is your age?'] >= 45) & (row['What is your age?'] < 50):\n",
    "            return '45-50'         \n",
    "        elif (row['What is your age?'] >= 50) & (row['What is your age?'] < 55):\n",
    "            return '50-55'   \n",
    "        elif (row['What is your age?'] >= 55) & (row['What is your age?'] < 60):\n",
    "            return '55-60'   \n",
    "        elif (row['What is your age?'] >= 60) & (row['What is your age?'] < 65):\n",
    "            return '60-65'\n",
    "        else:\n",
    "            return 'other'\n",
    "        \n",
    "survey_df['age_group'] = survey_df.apply(get_age_groups, axis=1)"
   ]
  },
  {
   "cell_type": "code",
   "execution_count": 14,
   "metadata": {},
   "outputs": [
    {
     "data": {
      "text/plain": [
       "(352, 83)"
      ]
     },
     "execution_count": 14,
     "metadata": {},
     "output_type": "execute_result"
    }
   ],
   "source": [
    "survey_df.shape"
   ]
  },
  {
   "cell_type": "markdown",
   "metadata": {},
   "source": [
    "Get age groups in percentage"
   ]
  },
  {
   "cell_type": "code",
   "execution_count": 15,
   "metadata": {},
   "outputs": [],
   "source": [
    "survey_df = survey_df.rename(columns={'Why or why not?.1':'Would you bring up your mental health at a job interview - why or why not?'}) "
   ]
  },
  {
   "cell_type": "code",
   "execution_count": 16,
   "metadata": {},
   "outputs": [],
   "source": [
    "survey_df.to_csv('clean_mental_health_data.csv')"
   ]
  },
  {
   "cell_type": "code",
   "execution_count": null,
   "metadata": {},
   "outputs": [],
   "source": []
  }
 ],
 "metadata": {
  "kernelspec": {
   "display_name": "Python 3",
   "language": "python",
   "name": "python3"
  },
  "language_info": {
   "codemirror_mode": {
    "name": "ipython",
    "version": 3
   },
   "file_extension": ".py",
   "mimetype": "text/x-python",
   "name": "python",
   "nbconvert_exporter": "python",
   "pygments_lexer": "ipython3",
   "version": "3.7.6"
  }
 },
 "nbformat": 4,
 "nbformat_minor": 4
}
